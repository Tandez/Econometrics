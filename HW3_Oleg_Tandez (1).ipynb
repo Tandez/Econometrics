{
 "cells": [
  {
   "cell_type": "markdown",
   "metadata": {},
   "source": [
    "# HW 3 Fama Factors"
   ]
  },
  {
   "cell_type": "code",
   "execution_count": 1,
   "metadata": {},
   "outputs": [],
   "source": [
    "from pandas_datareader import data\n",
    "import matplotlib.pyplot as plt\n",
    "import pandas as pd\n",
    "import datetime\n",
    "import math\n",
    "import numpy as np\n",
    "from scipy import stats\n",
    "from scipy.stats import norm\n",
    "import pandas as pd\n",
    "from sklearn.linear_model import LinearRegression\n",
    "import statsmodels.api as sm\n",
    "\n",
    "import seaborn as sns"
   ]
  },
  {
   "cell_type": "code",
   "execution_count": 2,
   "metadata": {},
   "outputs": [],
   "source": [
    "fac_5 = pd.read_csv('./F-F_Research_Data_5_Factors_2x3_daily.CSV')\n",
    "fac_5.columns= ['date', 'Mkt-RF', 'SMB', 'HML', 'RMW', 'CMA', 'RF']"
   ]
  },
  {
   "cell_type": "code",
   "execution_count": 3,
   "metadata": {},
   "outputs": [],
   "source": [
    "tickers = [a.strip('\\n') for a in open('./tickers.txt').readlines()] #importing ticker list"
   ]
  },
  {
   "cell_type": "code",
   "execution_count": 132,
   "metadata": {},
   "outputs": [
    {
     "name": "stdout",
     "output_type": "stream",
     "text": [
      "0\n",
      "1\n",
      "2\n",
      "3\n",
      "4\n",
      "5\n",
      "6\n",
      "7\n",
      "8\n",
      "9\n",
      "10\n",
      "11\n",
      "12\n",
      "13\n",
      "14\n",
      "15\n",
      "16\n",
      "17\n",
      "18\n",
      "19\n",
      "20\n",
      "21\n",
      "22\n",
      "23\n",
      "24\n",
      "25\n",
      "26\n",
      "27\n",
      "28\n",
      "29\n",
      "30\n",
      "31\n",
      "32\n",
      "33\n",
      "34\n",
      "35\n",
      "36\n",
      "37\n",
      "38\n",
      "39\n",
      "40\n",
      "41\n",
      "42\n",
      "43\n",
      "44\n",
      "45\n",
      "46\n",
      "47\n",
      "48\n",
      "49\n",
      "50\n",
      "51\n",
      "52\n",
      "53\n",
      "54\n",
      "55\n",
      "56\n",
      "57\n",
      "58\n",
      "59\n",
      "60\n",
      "61\n",
      "62\n",
      "63\n",
      "64\n",
      "65\n",
      "66\n",
      "67\n",
      "68\n",
      "69\n",
      "70\n",
      "71\n",
      "72\n",
      "73\n",
      "74\n",
      "75\n",
      "76\n",
      "77\n",
      "78\n",
      "79\n",
      "80\n",
      "81\n",
      "82\n",
      "83\n",
      "84\n",
      "85\n",
      "86\n",
      "87\n",
      "88\n",
      "89\n",
      "90\n",
      "91\n",
      "92\n",
      "93\n",
      "94\n",
      "95\n",
      "96\n",
      "97\n",
      "98\n",
      "99\n",
      "100\n",
      "101\n",
      "102\n",
      "103\n",
      "104\n",
      "105\n",
      "106\n",
      "107\n",
      "108\n",
      "109\n",
      "110\n",
      "111\n",
      "112\n",
      "113\n",
      "114\n",
      "115\n",
      "116\n",
      "117\n",
      "118\n",
      "119\n",
      "120\n",
      "121\n",
      "122\n",
      "123\n",
      "124\n",
      "125\n",
      "126\n",
      "127\n",
      "128\n",
      "129\n",
      "130\n",
      "131\n",
      "132\n",
      "133\n",
      "134\n",
      "135\n",
      "136\n",
      "137\n",
      "138\n",
      "139\n",
      "140\n",
      "141\n",
      "142\n",
      "143\n",
      "144\n",
      "145\n",
      "146\n",
      "147\n",
      "148\n",
      "149\n",
      "150\n",
      "151\n",
      "152\n",
      "153\n",
      "154\n",
      "155\n",
      "156\n",
      "157\n",
      "158\n",
      "159\n",
      "160\n",
      "161\n",
      "162\n",
      "163\n",
      "164\n",
      "165\n",
      "166\n",
      "167\n",
      "168\n",
      "169\n",
      "170\n",
      "171\n",
      "172\n",
      "173\n",
      "174\n",
      "175\n",
      "176\n",
      "177\n",
      "178\n",
      "179\n",
      "180\n",
      "181\n",
      "182\n",
      "183\n",
      "184\n",
      "185\n",
      "186\n",
      "187\n",
      "188\n",
      "189\n",
      "190\n",
      "191\n",
      "192\n",
      "193\n",
      "194\n",
      "195\n",
      "196\n",
      "197\n",
      "198\n",
      "199\n",
      "200\n",
      "201\n",
      "202\n",
      "203\n",
      "204\n",
      "205\n",
      "206\n",
      "207\n",
      "208\n",
      "209\n",
      "210\n",
      "211\n",
      "212\n",
      "213\n",
      "214\n",
      "215\n",
      "216\n",
      "217\n",
      "218\n",
      "219\n",
      "220\n",
      "221\n",
      "222\n",
      "223\n",
      "224\n",
      "225\n",
      "226\n",
      "227\n",
      "228\n",
      "229\n",
      "230\n",
      "231\n",
      "232\n",
      "233\n",
      "234\n",
      "235\n",
      "236\n",
      "237\n",
      "238\n",
      "239\n",
      "240\n",
      "241\n",
      "242\n",
      "243\n",
      "244\n",
      "245\n",
      "246\n",
      "247\n",
      "248\n",
      "249\n",
      "250\n",
      "251\n",
      "252\n",
      "253\n",
      "254\n",
      "255\n",
      "256\n",
      "257\n",
      "258\n",
      "259\n",
      "260\n",
      "261\n",
      "262\n",
      "263\n",
      "264\n",
      "265\n",
      "266\n",
      "267\n",
      "268\n",
      "269\n",
      "270\n",
      "271\n",
      "272\n",
      "273\n",
      "274\n",
      "275\n",
      "276\n",
      "277\n",
      "278\n",
      "279\n",
      "280\n",
      "281\n",
      "282\n",
      "283\n",
      "284\n",
      "285\n",
      "286\n",
      "287\n",
      "288\n",
      "289\n",
      "290\n",
      "291\n",
      "292\n",
      "293\n",
      "294\n",
      "295\n",
      "296\n",
      "297\n",
      "298\n",
      "299\n",
      "300\n",
      "301\n",
      "302\n",
      "303\n",
      "304\n",
      "305\n",
      "306\n",
      "307\n",
      "308\n",
      "309\n",
      "310\n",
      "311\n",
      "312\n",
      "313\n",
      "314\n",
      "315\n",
      "316\n",
      "317\n",
      "318\n",
      "319\n",
      "320\n",
      "321\n",
      "322\n",
      "323\n",
      "324\n",
      "325\n",
      "326\n",
      "327\n",
      "328\n",
      "329\n",
      "330\n",
      "331\n",
      "332\n",
      "333\n",
      "334\n",
      "335\n",
      "336\n",
      "337\n",
      "338\n",
      "339\n",
      "340\n",
      "341\n",
      "342\n",
      "343\n",
      "344\n",
      "345\n",
      "346\n",
      "347\n",
      "348\n",
      "349\n",
      "350\n",
      "351\n",
      "352\n",
      "353\n",
      "354\n",
      "355\n",
      "356\n",
      "357\n",
      "358\n",
      "359\n",
      "360\n",
      "361\n",
      "362\n",
      "363\n",
      "364\n",
      "365\n",
      "366\n",
      "367\n",
      "368\n",
      "369\n",
      "370\n",
      "371\n",
      "372\n",
      "373\n",
      "374\n",
      "375\n",
      "376\n",
      "377\n",
      "378\n",
      "379\n",
      "380\n",
      "381\n",
      "382\n",
      "383\n",
      "384\n",
      "385\n",
      "386\n",
      "387\n",
      "388\n",
      "389\n",
      "390\n",
      "391\n",
      "392\n",
      "393\n",
      "394\n",
      "395\n",
      "396\n",
      "397\n",
      "398\n",
      "399\n",
      "400\n",
      "401\n",
      "402\n",
      "403\n",
      "404\n",
      "405\n",
      "406\n",
      "407\n"
     ]
    },
    {
     "name": "stderr",
     "output_type": "stream",
     "text": [
      "/Applications/anaconda3/lib/python3.6/site-packages/ipykernel_launcher.py:19: RuntimeWarning: invalid value encountered in log\n"
     ]
    },
    {
     "name": "stdout",
     "output_type": "stream",
     "text": [
      "408\n",
      "409\n",
      "410\n",
      "411\n",
      "412\n",
      "413\n",
      "414\n",
      "415\n",
      "416\n",
      "417\n",
      "418\n",
      "419\n",
      "420\n",
      "421\n",
      "422\n",
      "423\n",
      "424\n",
      "425\n",
      "426\n",
      "427\n",
      "428\n",
      "429\n",
      "430\n",
      "431\n",
      "432\n",
      "433\n",
      "434\n",
      "435\n",
      "436\n",
      "437\n",
      "438\n",
      "439\n",
      "440\n",
      "441\n",
      "442\n",
      "443\n",
      "444\n",
      "445\n",
      "446\n",
      "447\n",
      "448\n",
      "449\n",
      "450\n",
      "451\n",
      "452\n",
      "453\n",
      "454\n",
      "455\n",
      "456\n",
      "457\n",
      "458\n",
      "459\n",
      "460\n",
      "461\n",
      "462\n",
      "463\n",
      "464\n",
      "465\n",
      "466\n",
      "467\n",
      "468\n",
      "469\n",
      "470\n",
      "471\n",
      "472\n",
      "473\n",
      "474\n",
      "475\n",
      "476\n",
      "477\n",
      "478\n",
      "479\n",
      "480\n",
      "481\n",
      "482\n",
      "483\n",
      "484\n",
      "485\n",
      "486\n",
      "487\n",
      "488\n",
      "489\n",
      "490\n",
      "491\n",
      "492\n",
      "493\n",
      "494\n",
      "495\n",
      "496\n",
      "497\n",
      "498\n",
      "499\n",
      "500\n",
      "501\n"
     ]
    }
   ],
   "source": [
    "start_date = '1963-07-01'\n",
    "end = '2019-03-29'\n",
    "\n",
    "#initialing lists for the required paramets and coefficients\n",
    "Intercept = []\n",
    "TStat = []\n",
    "MktRF_coeff = []\n",
    "SMB_coeff = []\n",
    "HML_coeff = []\n",
    "RMW_coeff = []\n",
    "CMA_coeff = []\n",
    "R_Squared = []\n",
    "\n",
    "\n",
    "# looping over ticker list\n",
    "for i,t in enumerate(tickers):\n",
    "    try:\n",
    "        print(i)\n",
    "        company = data.DataReader(t, 'yahoo', start_date, end)\n",
    "\n",
    "        company['Log']=np.log(company['Adj Close'])   #getting log adj close\n",
    "        Returns=np.diff(company['Log'])*100\n",
    "        Returns=np.append(0,Returns)\n",
    "        company['Returns']=Returns    \n",
    "                \n",
    "        Y = company['Returns'] \n",
    "        Y = list(Y)      #setting up the dependent variable for the regression\n",
    "        \n",
    "        #setting up independent variable\n",
    "        X = fac_5[['Mkt-RF','SMB', 'HML', 'RMW', 'CMA']][-len(Y):]    #making sure the dimensions for X and Y align\n",
    "        X = sm.add_constant(X)\n",
    "        \n",
    "        model = sm.OLS(Y, X).fit()      #fitting OLS\n",
    "        \n",
    "        \n",
    "        #appending the parameters to the initialized lists for each ticker\n",
    "        \n",
    "        Intercept.append(model.params[0])\n",
    "        TStat.append(model.tvalues[0])\n",
    "        MktRF_coeff.append(model.params[1])\n",
    "        SMB_coeff.append(model.params[2])\n",
    "        HML_coeff.append(model.params[3])\n",
    "        RMW_coeff.append(model.params[4])\n",
    "        CMA_coeff.append(model.params[5]) \n",
    "        R_Squared.append(model.rsquared)\n",
    "    except:\n",
    "            print('err')    "
   ]
  },
  {
   "cell_type": "code",
   "execution_count": 145,
   "metadata": {},
   "outputs": [],
   "source": [
    "#Main matrix with all the parameters for the tickers\n",
    "F5stats = pd.DataFrame()\n",
    "\n",
    "F5stats['Ticker'] = tickers\n",
    "F5stats['Intercept'] = Intercept\n",
    "F5stats['TStat'] = TStat\n",
    "F5stats['Mkt-Rf_coefficient'] = MktRF_coeff\n",
    "F5stats['SMB_coefficient'] = SMB_coeff\n",
    "F5stats['HML_coefficient'] = HML_coeff\n",
    "F5stats['RMW_coefficient'] = RMW_coeff\n",
    "F5stats['CMA_coefficient'] = CMA_coeff\n",
    "F5stats['R_Squared'] = R_Squared\n",
    "\n"
   ]
  },
  {
   "cell_type": "markdown",
   "metadata": {},
   "source": [
    "# A1) Matrix with constant and its tstatistics, Fama 5 factor coefficients, r_squared"
   ]
  },
  {
   "cell_type": "code",
   "execution_count": 134,
   "metadata": {},
   "outputs": [
    {
     "data": {
      "text/html": [
       "<div>\n",
       "<style scoped>\n",
       "    .dataframe tbody tr th:only-of-type {\n",
       "        vertical-align: middle;\n",
       "    }\n",
       "\n",
       "    .dataframe tbody tr th {\n",
       "        vertical-align: top;\n",
       "    }\n",
       "\n",
       "    .dataframe thead th {\n",
       "        text-align: right;\n",
       "    }\n",
       "</style>\n",
       "<table border=\"1\" class=\"dataframe\">\n",
       "  <thead>\n",
       "    <tr style=\"text-align: right;\">\n",
       "      <th></th>\n",
       "      <th>Ticker</th>\n",
       "      <th>Intercept</th>\n",
       "      <th>TStat</th>\n",
       "      <th>Mkt-Rf_coefficient</th>\n",
       "      <th>SMB_coefficient</th>\n",
       "      <th>HML_coefficient</th>\n",
       "      <th>RMW_coefficient</th>\n",
       "      <th>CMA_coefficient</th>\n",
       "      <th>R_Squared</th>\n",
       "    </tr>\n",
       "  </thead>\n",
       "  <tbody>\n",
       "    <tr>\n",
       "      <th>0</th>\n",
       "      <td>A</td>\n",
       "      <td>0.011979</td>\n",
       "      <td>0.392814</td>\n",
       "      <td>1.202444</td>\n",
       "      <td>0.184069</td>\n",
       "      <td>-0.538822</td>\n",
       "      <td>-0.976220</td>\n",
       "      <td>0.157150</td>\n",
       "      <td>0.409616</td>\n",
       "    </tr>\n",
       "    <tr>\n",
       "      <th>1</th>\n",
       "      <td>AAL</td>\n",
       "      <td>-0.027949</td>\n",
       "      <td>-0.458207</td>\n",
       "      <td>1.407127</td>\n",
       "      <td>0.983580</td>\n",
       "      <td>0.937694</td>\n",
       "      <td>-0.446931</td>\n",
       "      <td>0.269879</td>\n",
       "      <td>0.290172</td>\n",
       "    </tr>\n",
       "    <tr>\n",
       "      <th>2</th>\n",
       "      <td>AAP</td>\n",
       "      <td>0.021518</td>\n",
       "      <td>0.782044</td>\n",
       "      <td>0.830724</td>\n",
       "      <td>0.220777</td>\n",
       "      <td>0.013640</td>\n",
       "      <td>0.458070</td>\n",
       "      <td>0.246716</td>\n",
       "      <td>0.212243</td>\n",
       "    </tr>\n",
       "    <tr>\n",
       "      <th>3</th>\n",
       "      <td>AAPL</td>\n",
       "      <td>0.083718</td>\n",
       "      <td>3.183537</td>\n",
       "      <td>1.070291</td>\n",
       "      <td>-0.082343</td>\n",
       "      <td>-0.477250</td>\n",
       "      <td>-0.188454</td>\n",
       "      <td>-1.011674</td>\n",
       "      <td>0.246083</td>\n",
       "    </tr>\n",
       "    <tr>\n",
       "      <th>4</th>\n",
       "      <td>ABBV</td>\n",
       "      <td>0.006529</td>\n",
       "      <td>0.176346</td>\n",
       "      <td>1.030953</td>\n",
       "      <td>-0.126385</td>\n",
       "      <td>-0.659878</td>\n",
       "      <td>-0.285824</td>\n",
       "      <td>0.291659</td>\n",
       "      <td>0.287255</td>\n",
       "    </tr>\n",
       "  </tbody>\n",
       "</table>\n",
       "</div>"
      ],
      "text/plain": [
       "  Ticker  Intercept     TStat  Mkt-Rf_coefficient  SMB_coefficient  \\\n",
       "0      A   0.011979  0.392814            1.202444         0.184069   \n",
       "1    AAL  -0.027949 -0.458207            1.407127         0.983580   \n",
       "2    AAP   0.021518  0.782044            0.830724         0.220777   \n",
       "3   AAPL   0.083718  3.183537            1.070291        -0.082343   \n",
       "4   ABBV   0.006529  0.176346            1.030953        -0.126385   \n",
       "\n",
       "   HML_coefficient  RMW_coefficient  CMA_coefficient  R_Squared  \n",
       "0        -0.538822        -0.976220         0.157150   0.409616  \n",
       "1         0.937694        -0.446931         0.269879   0.290172  \n",
       "2         0.013640         0.458070         0.246716   0.212243  \n",
       "3        -0.477250        -0.188454        -1.011674   0.246083  \n",
       "4        -0.659878        -0.285824         0.291659   0.287255  "
      ]
     },
     "execution_count": 134,
     "metadata": {},
     "output_type": "execute_result"
    }
   ],
   "source": [
    "F5stats.head()"
   ]
  },
  {
   "cell_type": "markdown",
   "metadata": {},
   "source": [
    "# A2) Descriptive Statistics"
   ]
  },
  {
   "cell_type": "code",
   "execution_count": 148,
   "metadata": {},
   "outputs": [
    {
     "name": "stdout",
     "output_type": "stream",
     "text": [
      "count    501.000000\n",
      "mean       0.020005\n",
      "std        0.035184\n",
      "min       -0.192646\n",
      "25%        0.000400\n",
      "50%        0.018651\n",
      "75%        0.040255\n",
      "max        0.196460\n",
      "Name: Intercept, dtype: float64\n",
      "count    501.000000\n",
      "mean       0.897746\n",
      "std        1.323853\n",
      "min       -2.482772\n",
      "25%        0.019093\n",
      "50%        0.846625\n",
      "75%        1.666014\n",
      "max        6.579373\n",
      "Name: TStat, dtype: float64\n",
      "count    501.000000\n",
      "mean       1.026352\n",
      "std        0.235330\n",
      "min       -0.232066\n",
      "25%        0.875451\n",
      "50%        1.035793\n",
      "75%        1.190179\n",
      "max        1.718030\n",
      "Name: Mkt-Rf_coefficient, dtype: float64\n",
      "count    501.000000\n",
      "mean       0.215500\n",
      "std        0.332285\n",
      "min       -0.513493\n",
      "25%       -0.028381\n",
      "50%        0.205237\n",
      "75%        0.454390\n",
      "max        1.959587\n",
      "Name: SMB_coefficient, dtype: float64\n",
      "count    501.000000\n",
      "mean       0.133646\n",
      "std        0.575202\n",
      "min       -1.243265\n",
      "25%       -0.206861\n",
      "50%        0.051144\n",
      "75%        0.372829\n",
      "max        2.201964\n",
      "Name: HML_coefficient, dtype: float64\n",
      "count    501.000000\n",
      "mean       0.061155\n",
      "std        0.497378\n",
      "min       -2.114914\n",
      "25%       -0.144569\n",
      "50%        0.201205\n",
      "75%        0.393100\n",
      "max        0.794426\n",
      "Name: RMW_coefficient, dtype: float64\n",
      "count    501.000000\n",
      "mean       0.013023\n",
      "std        0.501647\n",
      "min       -3.116951\n",
      "25%       -0.256260\n",
      "50%        0.108095\n",
      "75%        0.363105\n",
      "max        2.235896\n",
      "Name: CMA_coefficient, dtype: float64\n",
      "count    501.000000\n",
      "mean       0.286083\n",
      "std        0.108573\n",
      "min        0.000990\n",
      "25%        0.212790\n",
      "50%        0.276493\n",
      "75%        0.359241\n",
      "max        0.665545\n",
      "Name: R_Squared, dtype: float64\n"
     ]
    }
   ],
   "source": [
    "#Descriptive statistics for the parameters\n",
    "\n",
    "print(F5stats['Intercept'].describe())\n",
    "print(F5stats['TStat'].describe())\n",
    "print(F5stats['Mkt-Rf_coefficient'].describe())\n",
    "print(F5stats['SMB_coefficient'].describe())\n",
    "print(F5stats['HML_coefficient'].describe())\n",
    "print(F5stats['RMW_coefficient'].describe())\n",
    "print(F5stats['CMA_coefficient'].describe())\n",
    "print(F5stats['R_Squared'].describe())\n",
    "\n"
   ]
  },
  {
   "cell_type": "markdown",
   "metadata": {},
   "source": [
    "# A3) PLOTS"
   ]
  },
  {
   "cell_type": "code",
   "execution_count": 135,
   "metadata": {},
   "outputs": [],
   "source": [
    "#Function to plot non parametric density estimates and plot normal distribution with mean and variance equal to the \n",
    "#mean and variance of the parameters\n",
    "\n",
    "def plot(variable):\n",
    "    var = np.var(variable)\n",
    "    mean = np.mean(variable)\n",
    "\n",
    "    norm = np.random.normal(mean,var,len(variable))\n",
    "    \n",
    "    sns.kdeplot(norm,color='blue')\n",
    "    sns.kdeplot(variable,color='red')\n",
    "\n",
    "    plt.show()                                                   \n",
    "    "
   ]
  },
  {
   "cell_type": "code",
   "execution_count": 121,
   "metadata": {},
   "outputs": [
    {
     "name": "stderr",
     "output_type": "stream",
     "text": [
      "/Applications/anaconda3/lib/python3.6/site-packages/statsmodels/nonparametric/kde.py:448: RuntimeWarning: invalid value encountered in greater\n",
      "  X = X[np.logical_and(X > clip[0], X < clip[1])] # won't work for two columns.\n",
      "/Applications/anaconda3/lib/python3.6/site-packages/statsmodels/nonparametric/kde.py:448: RuntimeWarning: invalid value encountered in less\n",
      "  X = X[np.logical_and(X > clip[0], X < clip[1])] # won't work for two columns.\n"
     ]
    },
    {
     "data": {
      "image/png": "[encoded data removed]",
      "text/plain": [
       "<Figure size 432x288 with 1 Axes>"
      ]
     },
     "metadata": {},
     "output_type": "display_data"
    }
   ],
   "source": [
    "plot(F5stats['Intercept'])"
   ]
  },
  {
   "cell_type": "code",
   "execution_count": 122,
   "metadata": {
    "scrolled": true
   },
   "outputs": [
    {
     "name": "stderr",
     "output_type": "stream",
     "text": [
      "/Applications/anaconda3/lib/python3.6/site-packages/statsmodels/nonparametric/kde.py:448: RuntimeWarning: invalid value encountered in greater\n",
      "  X = X[np.logical_and(X > clip[0], X < clip[1])] # won't work for two columns.\n",
      "/Applications/anaconda3/lib/python3.6/site-packages/statsmodels/nonparametric/kde.py:448: RuntimeWarning: invalid value encountered in less\n",
      "  X = X[np.logical_and(X > clip[0], X < clip[1])] # won't work for two columns.\n"
     ]
    },
    {
     "data": {
      "image/png": "[encoded data removed]",
      "text/plain": [
       "<Figure size 432x288 with 1 Axes>"
      ]
     },
     "metadata": {},
     "output_type": "display_data"
    }
   ],
   "source": [
    "plot(F5stats['TStat'])"
   ]
  },
  {
   "cell_type": "code",
   "execution_count": 123,
   "metadata": {},
   "outputs": [
    {
     "name": "stderr",
     "output_type": "stream",
     "text": [
      "/Applications/anaconda3/lib/python3.6/site-packages/statsmodels/nonparametric/kde.py:448: RuntimeWarning: invalid value encountered in greater\n",
      "  X = X[np.logical_and(X > clip[0], X < clip[1])] # won't work for two columns.\n",
      "/Applications/anaconda3/lib/python3.6/site-packages/statsmodels/nonparametric/kde.py:448: RuntimeWarning: invalid value encountered in less\n",
      "  X = X[np.logical_and(X > clip[0], X < clip[1])] # won't work for two columns.\n"
     ]
    },
    {
     "data": {
      "image/png": "[encoded data removed]",
      "text/plain": [
       "<Figure size 432x288 with 1 Axes>"
      ]
     },
     "metadata": {},
     "output_type": "display_data"
    }
   ],
   "source": [
    "plot(F5stats['Mkt-Rf_coefficient'])"
   ]
  },
  {
   "cell_type": "code",
   "execution_count": 124,
   "metadata": {},
   "outputs": [
    {
     "name": "stderr",
     "output_type": "stream",
     "text": [
      "/Applications/anaconda3/lib/python3.6/site-packages/statsmodels/nonparametric/kde.py:448: RuntimeWarning: invalid value encountered in greater\n",
      "  X = X[np.logical_and(X > clip[0], X < clip[1])] # won't work for two columns.\n",
      "/Applications/anaconda3/lib/python3.6/site-packages/statsmodels/nonparametric/kde.py:448: RuntimeWarning: invalid value encountered in less\n",
      "  X = X[np.logical_and(X > clip[0], X < clip[1])] # won't work for two columns.\n"
     ]
    },
    {
     "data": {
      "image/png": "[encoded data removed]",
      "text/plain": [
       "<Figure size 432x288 with 1 Axes>"
      ]
     },
     "metadata": {},
     "output_type": "display_data"
    }
   ],
   "source": [
    "plot(F5stats['SMB_coefficient'])"
   ]
  },
  {
   "cell_type": "code",
   "execution_count": 125,
   "metadata": {},
   "outputs": [
    {
     "name": "stderr",
     "output_type": "stream",
     "text": [
      "/Applications/anaconda3/lib/python3.6/site-packages/statsmodels/nonparametric/kde.py:448: RuntimeWarning: invalid value encountered in greater\n",
      "  X = X[np.logical_and(X > clip[0], X < clip[1])] # won't work for two columns.\n",
      "/Applications/anaconda3/lib/python3.6/site-packages/statsmodels/nonparametric/kde.py:448: RuntimeWarning: invalid value encountered in less\n",
      "  X = X[np.logical_and(X > clip[0], X < clip[1])] # won't work for two columns.\n"
     ]
    },
    {
     "data": {
      "image/png": "[encoded data removed]",
      "text/plain": [
       "<Figure size 432x288 with 1 Axes>"
      ]
     },
     "metadata": {},
     "output_type": "display_data"
    }
   ],
   "source": [
    "plot(F5stats['HML_coefficient'])"
   ]
  },
  {
   "cell_type": "code",
   "execution_count": 126,
   "metadata": {},
   "outputs": [
    {
     "name": "stderr",
     "output_type": "stream",
     "text": [
      "/Applications/anaconda3/lib/python3.6/site-packages/statsmodels/nonparametric/kde.py:448: RuntimeWarning: invalid value encountered in greater\n",
      "  X = X[np.logical_and(X > clip[0], X < clip[1])] # won't work for two columns.\n",
      "/Applications/anaconda3/lib/python3.6/site-packages/statsmodels/nonparametric/kde.py:448: RuntimeWarning: invalid value encountered in less\n",
      "  X = X[np.logical_and(X > clip[0], X < clip[1])] # won't work for two columns.\n"
     ]
    },
    {
     "data": {
      "image/png": "[encoded data removed]",
      "text/plain": [
       "<Figure size 432x288 with 1 Axes>"
      ]
     },
     "metadata": {},
     "output_type": "display_data"
    }
   ],
   "source": [
    "plot(F5stats['RMW_coefficient'])"
   ]
  },
  {
   "cell_type": "code",
   "execution_count": 127,
   "metadata": {},
   "outputs": [
    {
     "name": "stderr",
     "output_type": "stream",
     "text": [
      "/Applications/anaconda3/lib/python3.6/site-packages/statsmodels/nonparametric/kde.py:448: RuntimeWarning: invalid value encountered in greater\n",
      "  X = X[np.logical_and(X > clip[0], X < clip[1])] # won't work for two columns.\n",
      "/Applications/anaconda3/lib/python3.6/site-packages/statsmodels/nonparametric/kde.py:448: RuntimeWarning: invalid value encountered in less\n",
      "  X = X[np.logical_and(X > clip[0], X < clip[1])] # won't work for two columns.\n"
     ]
    },
    {
     "data": {
      "image/png": "[encoded data removed]",
      "text/plain": [
       "<Figure size 432x288 with 1 Axes>"
      ]
     },
     "metadata": {},
     "output_type": "display_data"
    }
   ],
   "source": [
    "plot(F5stats['CMA_coefficient'])"
   ]
  },
  {
   "cell_type": "code",
   "execution_count": 120,
   "metadata": {
    "scrolled": true
   },
   "outputs": [
    {
     "name": "stderr",
     "output_type": "stream",
     "text": [
      "/Applications/anaconda3/lib/python3.6/site-packages/statsmodels/nonparametric/kde.py:448: RuntimeWarning: invalid value encountered in greater\n",
      "  X = X[np.logical_and(X > clip[0], X < clip[1])] # won't work for two columns.\n",
      "/Applications/anaconda3/lib/python3.6/site-packages/statsmodels/nonparametric/kde.py:448: RuntimeWarning: invalid value encountered in less\n",
      "  X = X[np.logical_and(X > clip[0], X < clip[1])] # won't work for two columns.\n"
     ]
    },
    {
     "data": {
      "image/png": "[encoded data removed]",
      "text/plain": [
       "<Figure size 432x288 with 1 Axes>"
      ]
     },
     "metadata": {},
     "output_type": "display_data"
    },
    {
     "data": {
      "image/png": "[encoded data removed]",
      "text/plain": [
       "<Figure size 432x288 with 1 Axes>"
      ]
     },
     "metadata": {},
     "output_type": "display_data"
    },
    {
     "data": {
      "image/png": "[encoded data removed]",
      "text/plain": [
       "<Figure size 432x288 with 1 Axes>"
      ]
     },
     "metadata": {},
     "output_type": "display_data"
    },
    {
     "data": {
      "image/png": "[encoded data removed]",
      "text/plain": [
       "<Figure size 432x288 with 1 Axes>"
      ]
     },
     "metadata": {},
     "output_type": "display_data"
    },
    {
     "data": {
      "image/png": "[encoded data removed]",
      "text/plain": [
       "<Figure size 432x288 with 1 Axes>"
      ]
     },
     "metadata": {},
     "output_type": "display_data"
    },
    {
     "data": {
      "image/png": "[encoded data removed]",
      "text/plain": [
       "<Figure size 432x288 with 1 Axes>"
      ]
     },
     "metadata": {},
     "output_type": "display_data"
    },
    {
     "data": {
      "image/png": "[encoded data removed]",
      "text/plain": [
       "<Figure size 432x288 with 1 Axes>"
      ]
     },
     "metadata": {},
     "output_type": "display_data"
    },
    {
     "data": {
      "image/png": "[encoded data removed]",
      "text/plain": [
       "<Figure size 432x288 with 1 Axes>"
      ]
     },
     "metadata": {},
     "output_type": "display_data"
    }
   ],
   "source": [
    "plot(F5stats['R_Squared'])\n"
   ]
  },
  {
   "cell_type": "markdown",
   "metadata": {},
   "source": [
    "# A4) Highest and lowest constants"
   ]
  },
  {
   "cell_type": "code",
   "execution_count": 147,
   "metadata": {
    "scrolled": true
   },
   "outputs": [
    {
     "name": "stdout",
     "output_type": "stream",
     "text": [
      "Top 5 stocks with highest constant:\n",
      "   index Ticker  Intercept\n",
      "0     65    BHF   0.196460\n",
      "1    436    TJX   0.135350\n",
      "2    353    OKE   0.134704\n",
      "3    338    NKE   0.132642\n",
      "4    294     LW   0.128337\n",
      "\n",
      "\n",
      "5 stocks with lowest constant:\n",
      "   index Ticker  Intercept\n",
      "0    450     UA  -0.192646\n",
      "1    113   COTY  -0.132944\n",
      "2    269    KHC  -0.113201\n",
      "3    447   TWTR  -0.077182\n",
      "4    487    WRK  -0.067682\n"
     ]
    }
   ],
   "source": [
    "# sorting and printing tickets with highest and lowest intercepts\n",
    "\n",
    "F5stats = F5stats.sort_values('Intercept', ascending=False)\n",
    "Intercepts_sorted = F5stats[['Ticker','Intercept']]\n",
    "Intercepts_sorted = Intercepts_sorted.reset_index()\n",
    "print('Top 5 stocks with highest constant:' )\n",
    "print(Intercepts_sorted[0:5])\n",
    "print('\\n')\n",
    "\n",
    "F5stats = F5stats.sort_values('Intercept', ascending=True)\n",
    "Intercepts_sorted_asc = F5stats[['Ticker','Intercept']]\n",
    "Intercepts_sorted_asc = Intercepts_sorted_asc.reset_index()\n",
    "print('5 stocks with lowest constant:' )\n",
    "print(Intercepts_sorted_asc[0:5])"
   ]
  },
  {
   "cell_type": "markdown",
   "metadata": {},
   "source": [
    "Companies with the highest Intercepts are Brighthouse Finacial Inc, TJX Companies, ONEOK Inc, Nike Inc, \n",
    "Lamb Weston Holdings Inc. These are companies whose returns are least explained by the Fama factors.\n",
    "\n",
    "Companies with the lowest Intercepts are Under Armour, Coty Inc, Kraft Heinz, Twitter, Westrock Co.\n",
    "These are companies whose returns are most explained by the Fama factors. \n"
   ]
  },
  {
   "cell_type": "code",
   "execution_count": 44,
   "metadata": {},
   "outputs": [],
   "source": []
  },
  {
   "cell_type": "code",
   "execution_count": null,
   "metadata": {},
   "outputs": [],
   "source": []
  },
  {
   "cell_type": "code",
   "execution_count": null,
   "metadata": {
    "scrolled": false
   },
   "outputs": [],
   "source": []
  },
  {
   "cell_type": "code",
   "execution_count": null,
   "metadata": {},
   "outputs": [],
   "source": []
  },
  {
   "cell_type": "code",
   "execution_count": null,
   "metadata": {},
   "outputs": [],
   "source": []
  },
  {
   "cell_type": "code",
   "execution_count": null,
   "metadata": {},
   "outputs": [],
   "source": []
  },
  {
   "cell_type": "code",
   "execution_count": null,
   "metadata": {},
   "outputs": [],
   "source": []
  },
  {
   "cell_type": "code",
   "execution_count": null,
   "metadata": {},
   "outputs": [],
   "source": []
  }
 ],
 "metadata": {
  "kernelspec": {
   "display_name": "Python 3",
   "language": "python",
   "name": "python3"
  },
  "language_info": {
   "codemirror_mode": {
    "name": "ipython",
    "version": 3
   },
   "file_extension": ".py",
   "mimetype": "text/x-python",
   "name": "python",
   "nbconvert_exporter": "python",
   "pygments_lexer": "ipython3",
   "version": "3.6.5"
  }
 },
 "nbformat": 4,
 "nbformat_minor": 2
}
